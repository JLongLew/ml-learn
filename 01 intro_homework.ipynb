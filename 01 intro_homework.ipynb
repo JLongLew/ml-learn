{
 "cells": [
  {
   "cell_type": "code",
   "execution_count": null,
   "id": "56277d97",
   "metadata": {},
   "outputs": [],
   "source": [
    "import pandas as pd\n",
    "import numpy as np"
   ]
  },
  {
   "cell_type": "code",
   "execution_count": 2,
   "id": "de25f7b6",
   "metadata": {},
   "outputs": [
    {
     "data": {
      "text/plain": [
       "'2.3.2'"
      ]
     },
     "execution_count": 2,
     "metadata": {},
     "output_type": "execute_result"
    }
   ],
   "source": [
    "pd.__version__"
   ]
  },
  {
   "cell_type": "code",
   "execution_count": 3,
   "id": "f15b4633",
   "metadata": {},
   "outputs": [
    {
     "data": {
      "text/html": [
       "<div>\n",
       "<style scoped>\n",
       "    .dataframe tbody tr th:only-of-type {\n",
       "        vertical-align: middle;\n",
       "    }\n",
       "\n",
       "    .dataframe tbody tr th {\n",
       "        vertical-align: top;\n",
       "    }\n",
       "\n",
       "    .dataframe thead th {\n",
       "        text-align: right;\n",
       "    }\n",
       "</style>\n",
       "<table border=\"1\" class=\"dataframe\">\n",
       "  <thead>\n",
       "    <tr style=\"text-align: right;\">\n",
       "      <th></th>\n",
       "      <th>engine_displacement</th>\n",
       "      <th>num_cylinders</th>\n",
       "      <th>horsepower</th>\n",
       "      <th>vehicle_weight</th>\n",
       "      <th>acceleration</th>\n",
       "      <th>model_year</th>\n",
       "      <th>origin</th>\n",
       "      <th>fuel_type</th>\n",
       "      <th>drivetrain</th>\n",
       "      <th>num_doors</th>\n",
       "      <th>fuel_efficiency_mpg</th>\n",
       "    </tr>\n",
       "  </thead>\n",
       "  <tbody>\n",
       "    <tr>\n",
       "      <th>0</th>\n",
       "      <td>170</td>\n",
       "      <td>3.0</td>\n",
       "      <td>159.0</td>\n",
       "      <td>3413.433759</td>\n",
       "      <td>17.7</td>\n",
       "      <td>2003</td>\n",
       "      <td>Europe</td>\n",
       "      <td>Gasoline</td>\n",
       "      <td>All-wheel drive</td>\n",
       "      <td>0.0</td>\n",
       "      <td>13.231729</td>\n",
       "    </tr>\n",
       "    <tr>\n",
       "      <th>1</th>\n",
       "      <td>130</td>\n",
       "      <td>5.0</td>\n",
       "      <td>97.0</td>\n",
       "      <td>3149.664934</td>\n",
       "      <td>17.8</td>\n",
       "      <td>2007</td>\n",
       "      <td>USA</td>\n",
       "      <td>Gasoline</td>\n",
       "      <td>Front-wheel drive</td>\n",
       "      <td>0.0</td>\n",
       "      <td>13.688217</td>\n",
       "    </tr>\n",
       "    <tr>\n",
       "      <th>2</th>\n",
       "      <td>170</td>\n",
       "      <td>NaN</td>\n",
       "      <td>78.0</td>\n",
       "      <td>3079.038997</td>\n",
       "      <td>15.1</td>\n",
       "      <td>2018</td>\n",
       "      <td>Europe</td>\n",
       "      <td>Gasoline</td>\n",
       "      <td>Front-wheel drive</td>\n",
       "      <td>0.0</td>\n",
       "      <td>14.246341</td>\n",
       "    </tr>\n",
       "    <tr>\n",
       "      <th>3</th>\n",
       "      <td>220</td>\n",
       "      <td>4.0</td>\n",
       "      <td>NaN</td>\n",
       "      <td>2542.392402</td>\n",
       "      <td>20.2</td>\n",
       "      <td>2009</td>\n",
       "      <td>USA</td>\n",
       "      <td>Diesel</td>\n",
       "      <td>All-wheel drive</td>\n",
       "      <td>2.0</td>\n",
       "      <td>16.912736</td>\n",
       "    </tr>\n",
       "    <tr>\n",
       "      <th>4</th>\n",
       "      <td>210</td>\n",
       "      <td>1.0</td>\n",
       "      <td>140.0</td>\n",
       "      <td>3460.870990</td>\n",
       "      <td>14.4</td>\n",
       "      <td>2009</td>\n",
       "      <td>Europe</td>\n",
       "      <td>Gasoline</td>\n",
       "      <td>All-wheel drive</td>\n",
       "      <td>2.0</td>\n",
       "      <td>12.488369</td>\n",
       "    </tr>\n",
       "  </tbody>\n",
       "</table>\n",
       "</div>"
      ],
      "text/plain": [
       "   engine_displacement  num_cylinders  horsepower  vehicle_weight  \\\n",
       "0                  170            3.0       159.0     3413.433759   \n",
       "1                  130            5.0        97.0     3149.664934   \n",
       "2                  170            NaN        78.0     3079.038997   \n",
       "3                  220            4.0         NaN     2542.392402   \n",
       "4                  210            1.0       140.0     3460.870990   \n",
       "\n",
       "   acceleration  model_year  origin fuel_type         drivetrain  num_doors  \\\n",
       "0          17.7        2003  Europe  Gasoline    All-wheel drive        0.0   \n",
       "1          17.8        2007     USA  Gasoline  Front-wheel drive        0.0   \n",
       "2          15.1        2018  Europe  Gasoline  Front-wheel drive        0.0   \n",
       "3          20.2        2009     USA    Diesel    All-wheel drive        2.0   \n",
       "4          14.4        2009  Europe  Gasoline    All-wheel drive        2.0   \n",
       "\n",
       "   fuel_efficiency_mpg  \n",
       "0            13.231729  \n",
       "1            13.688217  \n",
       "2            14.246341  \n",
       "3            16.912736  \n",
       "4            12.488369  "
      ]
     },
     "execution_count": 3,
     "metadata": {},
     "output_type": "execute_result"
    }
   ],
   "source": [
    "df = pd.read_csv('car_fuel_efficiency.csv')\n",
    "df.head()"
   ]
  },
  {
   "cell_type": "code",
   "execution_count": 4,
   "id": "3877284f",
   "metadata": {},
   "outputs": [
    {
     "name": "stdout",
     "output_type": "stream",
     "text": [
      "Number of records = 9704\n"
     ]
    }
   ],
   "source": [
    "# How many records are in the dataset?\n",
    "len_record = len(df)\n",
    "print(\"Number of records =\", len_record)"
   ]
  },
  {
   "cell_type": "code",
   "execution_count": 5,
   "id": "a35af248",
   "metadata": {},
   "outputs": [
    {
     "name": "stdout",
     "output_type": "stream",
     "text": [
      "Number of fuel types = 2\n"
     ]
    }
   ],
   "source": [
    "# How many fuel types are presented in the dataset?\n",
    "num_fuel_type = df['fuel_type'].nunique()\n",
    "print(\"Number of fuel types =\", num_fuel_type)"
   ]
  },
  {
   "cell_type": "code",
   "execution_count": 6,
   "id": "4c3236bf",
   "metadata": {},
   "outputs": [
    {
     "name": "stdout",
     "output_type": "stream",
     "text": [
      "Number of columns with missing values = 4\n"
     ]
    }
   ],
   "source": [
    "# How many columns in the dataset have missing values?\n",
    "missing_cols = df.isnull().sum()\n",
    "num_missing_cols = (missing_cols > 0).sum()\n",
    "print(\"Number of columns with missing values =\", num_missing_cols)"
   ]
  },
  {
   "cell_type": "code",
   "execution_count": 7,
   "id": "5909eb2a",
   "metadata": {},
   "outputs": [
    {
     "name": "stdout",
     "output_type": "stream",
     "text": [
      "Max fuel efficiency (Asia) = 23.759122836520497\n"
     ]
    }
   ],
   "source": [
    "# What's the maximum fuel efficiency of cars from Asia?\n",
    "df[df['origin'] == 'Asia']['fuel_efficiency_mpg'].max()\n",
    "max_fuel_eff_asia = df.loc[df['origin'] == 'Asia', 'fuel_efficiency_mpg'].max()\n",
    "print(\"Max fuel efficiency (Asia) =\", max_fuel_eff_asia)"
   ]
  },
  {
   "cell_type": "code",
   "execution_count": 8,
   "id": "4d7aa9c9",
   "metadata": {},
   "outputs": [
    {
     "name": "stdout",
     "output_type": "stream",
     "text": [
      "Median horsepower (before filling) = 149.0\n",
      "Most frequent horsepower = 152.0\n",
      "Median horsepower (after filling) = 152.0\n"
     ]
    }
   ],
   "source": [
    "# Median horsepower before filling\n",
    "median_hp_before = df['horsepower'].median()\n",
    "print(\"Median horsepower (before filling) =\", median_hp_before)\n",
    "\n",
    "# Most frequent horsepower (mode)\n",
    "most_freq_hp = df['horsepower'].mode()[0]\n",
    "print(\"Most frequent horsepower =\", most_freq_hp)\n",
    "# Fill missing horsepower with mode\n",
    "df['horsepower'] = df['horsepower'].fillna(most_freq_hp)\n",
    "\n",
    "# Median horsepower after filling\n",
    "median_hp_after = df['horsepower'].median()\n",
    "print(\"Median horsepower (after filling) =\", median_hp_after)"
   ]
  },
  {
   "cell_type": "code",
   "execution_count": 9,
   "id": "d0aa7c3b",
   "metadata": {},
   "outputs": [
    {
     "name": "stdout",
     "output_type": "stream",
     "text": [
      "Sum of elements of w = 0.5187709081074025\n"
     ]
    }
   ],
   "source": [
    "# Q4: Matrix operations\n",
    "# Select Asia cars, vehicle_weight + model_year, first 7 values\n",
    "X = df.loc[df['origin'] == 'Asia', ['vehicle_weight', 'model_year']].head(7).to_numpy()\n",
    "\n",
    "# Compute XTX\n",
    "XTX = X.T @ X\n",
    "\n",
    "# Invert XTX\n",
    "XTX_inv = np.linalg.inv(XTX)\n",
    "\n",
    "# Create y\n",
    "y = np.array([1100, 1300, 800, 900, 1000, 1100, 1200])\n",
    "\n",
    "# Compute w = (XTX_inv @ X.T) @ y\n",
    "w = XTX_inv @ X.T @ y\n",
    "\n",
    "# Sum of elements of w\n",
    "sum_w = w.sum()\n",
    "print(\"Sum of elements of w =\", sum_w)"
   ]
  }
 ],
 "metadata": {
  "kernelspec": {
   "display_name": "ml",
   "language": "python",
   "name": "python3"
  },
  "language_info": {
   "codemirror_mode": {
    "name": "ipython",
    "version": 3
   },
   "file_extension": ".py",
   "mimetype": "text/x-python",
   "name": "python",
   "nbconvert_exporter": "python",
   "pygments_lexer": "ipython3",
   "version": "3.11.13"
  }
 },
 "nbformat": 4,
 "nbformat_minor": 5
}
