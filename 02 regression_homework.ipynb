{
 "cells": [
  {
   "cell_type": "code",
   "execution_count": 9,
   "id": "792af1b1",
   "metadata": {},
   "outputs": [],
   "source": [
    "import pandas as pd\n",
    "import numpy as np\n",
    "from sklearn.model_selection import train_test_split\n",
    "from sklearn.linear_model import Ridge, LinearRegression\n",
    "from sklearn.metrics import mean_squared_error"
   ]
  },
  {
   "cell_type": "code",
   "execution_count": 3,
   "id": "96ff9b94",
   "metadata": {},
   "outputs": [
    {
     "data": {
      "text/html": [
       "<div>\n",
       "<style scoped>\n",
       "    .dataframe tbody tr th:only-of-type {\n",
       "        vertical-align: middle;\n",
       "    }\n",
       "\n",
       "    .dataframe tbody tr th {\n",
       "        vertical-align: top;\n",
       "    }\n",
       "\n",
       "    .dataframe thead th {\n",
       "        text-align: right;\n",
       "    }\n",
       "</style>\n",
       "<table border=\"1\" class=\"dataframe\">\n",
       "  <thead>\n",
       "    <tr style=\"text-align: right;\">\n",
       "      <th></th>\n",
       "      <th>engine_displacement</th>\n",
       "      <th>horsepower</th>\n",
       "      <th>vehicle_weight</th>\n",
       "      <th>model_year</th>\n",
       "      <th>fuel_efficiency_mpg</th>\n",
       "    </tr>\n",
       "  </thead>\n",
       "  <tbody>\n",
       "    <tr>\n",
       "      <th>0</th>\n",
       "      <td>170</td>\n",
       "      <td>159.0</td>\n",
       "      <td>3413.433759</td>\n",
       "      <td>2003</td>\n",
       "      <td>13.231729</td>\n",
       "    </tr>\n",
       "    <tr>\n",
       "      <th>1</th>\n",
       "      <td>130</td>\n",
       "      <td>97.0</td>\n",
       "      <td>3149.664934</td>\n",
       "      <td>2007</td>\n",
       "      <td>13.688217</td>\n",
       "    </tr>\n",
       "    <tr>\n",
       "      <th>2</th>\n",
       "      <td>170</td>\n",
       "      <td>78.0</td>\n",
       "      <td>3079.038997</td>\n",
       "      <td>2018</td>\n",
       "      <td>14.246341</td>\n",
       "    </tr>\n",
       "    <tr>\n",
       "      <th>3</th>\n",
       "      <td>220</td>\n",
       "      <td>NaN</td>\n",
       "      <td>2542.392402</td>\n",
       "      <td>2009</td>\n",
       "      <td>16.912736</td>\n",
       "    </tr>\n",
       "    <tr>\n",
       "      <th>4</th>\n",
       "      <td>210</td>\n",
       "      <td>140.0</td>\n",
       "      <td>3460.870990</td>\n",
       "      <td>2009</td>\n",
       "      <td>12.488369</td>\n",
       "    </tr>\n",
       "  </tbody>\n",
       "</table>\n",
       "</div>"
      ],
      "text/plain": [
       "   engine_displacement  horsepower  vehicle_weight  model_year  \\\n",
       "0                  170       159.0     3413.433759        2003   \n",
       "1                  130        97.0     3149.664934        2007   \n",
       "2                  170        78.0     3079.038997        2018   \n",
       "3                  220         NaN     2542.392402        2009   \n",
       "4                  210       140.0     3460.870990        2009   \n",
       "\n",
       "   fuel_efficiency_mpg  \n",
       "0            13.231729  \n",
       "1            13.688217  \n",
       "2            14.246341  \n",
       "3            16.912736  \n",
       "4            12.488369  "
      ]
     },
     "execution_count": 3,
     "metadata": {},
     "output_type": "execute_result"
    }
   ],
   "source": [
    "df = pd.read_csv('car_fuel_efficiency.csv')\n",
    "df = df[['engine_displacement', 'horsepower', 'vehicle_weight', 'model_year', 'fuel_efficiency_mpg']]\n",
    "df.head()"
   ]
  },
  {
   "cell_type": "code",
   "execution_count": null,
   "id": "f556f0b5",
   "metadata": {},
   "outputs": [
    {
     "name": "stdout",
     "output_type": "stream",
     "text": [
      "engine_displacement      0\n",
      "horsepower             708\n",
      "vehicle_weight           0\n",
      "model_year               0\n",
      "fuel_efficiency_mpg      0\n",
      "dtype: int64\n"
     ]
    }
   ],
   "source": [
    "# Check for missing values in the dataset.\n",
    "check_df = df.isnull().sum()\n",
    "print(check_df)"
   ]
  },
  {
   "cell_type": "code",
   "execution_count": 7,
   "id": "39b3017f",
   "metadata": {},
   "outputs": [
    {
     "data": {
      "text/plain": [
       "149.0"
      ]
     },
     "execution_count": 7,
     "metadata": {},
     "output_type": "execute_result"
    }
   ],
   "source": [
    "df['horsepower'].median()"
   ]
  },
  {
   "cell_type": "code",
   "execution_count": 20,
   "id": "431d0900",
   "metadata": {},
   "outputs": [
    {
     "name": "stdout",
     "output_type": "stream",
     "text": [
      "Train size: 5824\n",
      "Validation size: 1940\n",
      "Test size: 1940\n"
     ]
    }
   ],
   "source": [
    "def prepare_and_split_data(df, seed=42, val_size=0.2, test_size=0.2):\n",
    "    \"\"\"\n",
    "    Shuffle and split dataset into train/val/test sets\n",
    "    \"\"\"\n",
    "    # Shuffle the dataset\n",
    "    n = len(df)\n",
    "    np.random.seed(seed)\n",
    "    idx = np.arange(n)\n",
    "    np.random.shuffle(idx)\n",
    "    df_shuffled = df.iloc[idx].reset_index(drop=True)\n",
    "    \n",
    "    # Split the data\n",
    "    n_val = int(n * val_size)\n",
    "    n_test = int(n * test_size)\n",
    "    n_train = n - n_val - n_test\n",
    "    \n",
    "    df_train = df_shuffled.iloc[:n_train].copy()\n",
    "    df_val = df_shuffled.iloc[n_train:n_train+n_val].copy()\n",
    "    df_test = df_shuffled.iloc[n_train+n_val:].copy()\n",
    "    \n",
    "    return df_train, df_val, df_test\n",
    "\n",
    "# Split with seed 42\n",
    "df_train, df_val, df_test = prepare_and_split_data(df, seed=42)\n",
    "\n",
    "print(f\"Train size: {len(df_train)}\")\n",
    "print(f\"Validation size: {len(df_val)}\")\n",
    "print(f\"Test size: {len(df_test)}\")"
   ]
  },
  {
   "cell_type": "code",
   "execution_count": 21,
   "id": "bbb1f651",
   "metadata": {},
   "outputs": [
    {
     "name": "stdout",
     "output_type": "stream",
     "text": [
      "\n",
      "=== QUESTION 3 ===\n",
      "RMSE (fill with 0): 0.52\n",
      "RMSE (fill with mean): 0.47\n",
      "Better option: mean\n"
     ]
    }
   ],
   "source": [
    "def prepare_X_y(df, fill_value=0):\n",
    "    \"\"\"\n",
    "    Prepare features and target from dataframe\n",
    "    \"\"\"\n",
    "    df_processed = df.copy()\n",
    "    df_processed['horsepower'] = df_processed['horsepower'].fillna(fill_value)\n",
    "    \n",
    "    # Prepare X (features) and y (target)\n",
    "    X = df_processed[['engine_displacement', 'horsepower', 'vehicle_weight', 'model_year']].values\n",
    "    y = df_processed['fuel_efficiency_mpg'].values\n",
    "    \n",
    "    return X, y\n",
    "\n",
    "def train_linear_regression(X, y):\n",
    "    \"\"\"\n",
    "    Train linear regression with normal equation\n",
    "    \"\"\"\n",
    "    # Add bias term\n",
    "    ones = np.ones(X.shape[0])\n",
    "    X_with_bias = np.column_stack([ones, X])\n",
    "    \n",
    "    # Normal equation: w = (X^T X)^-1 X^T y\n",
    "    XTX = X_with_bias.T.dot(X_with_bias)\n",
    "    XTX_inv = np.linalg.inv(XTX)\n",
    "    w = XTX_inv.dot(X_with_bias.T).dot(y)\n",
    "    \n",
    "    return w\n",
    "\n",
    "def predict(X, w):\n",
    "    \"\"\"\n",
    "    Make predictions\n",
    "    \"\"\"\n",
    "    ones = np.ones(X.shape[0])\n",
    "    X_with_bias = np.column_stack([ones, X])\n",
    "    return X_with_bias.dot(w)\n",
    "\n",
    "def rmse(y_true, y_pred):\n",
    "    \"\"\"\n",
    "    Calculate RMSE\n",
    "    \"\"\"\n",
    "    mse = np.mean((y_true - y_pred) ** 2)\n",
    "    return np.sqrt(mse)\n",
    "\n",
    "# Option 1: Fill with 0\n",
    "X_train_0, y_train = prepare_X_y(df_train, fill_value=0)\n",
    "X_val_0, y_val = prepare_X_y(df_val, fill_value=0)\n",
    "\n",
    "w_0 = train_linear_regression(X_train_0, y_train)\n",
    "y_pred_0 = predict(X_val_0, w_0)\n",
    "rmse_0 = round(rmse(y_val, y_pred_0), 2)\n",
    "\n",
    "# Option 2: Fill with mean (computed on training set only!)\n",
    "mean_horsepower = df_train['horsepower'].mean()\n",
    "X_train_mean, y_train = prepare_X_y(df_train, fill_value=mean_horsepower)\n",
    "X_val_mean, y_val = prepare_X_y(df_val, fill_value=mean_horsepower)\n",
    "\n",
    "w_mean = train_linear_regression(X_train_mean, y_train)\n",
    "y_pred_mean = predict(X_val_mean, w_mean)\n",
    "rmse_mean = round(rmse(y_val, y_pred_mean), 2)\n",
    "\n",
    "print(\"\\n=== QUESTION 3 ===\")\n",
    "print(f\"RMSE (fill with 0): {rmse_0}\")\n",
    "print(f\"RMSE (fill with mean): {rmse_mean}\")\n",
    "print(f\"Better option: {'0' if rmse_0 < rmse_mean else 'mean'}\")"
   ]
  },
  {
   "cell_type": "code",
   "execution_count": 22,
   "id": "eab8e57a",
   "metadata": {},
   "outputs": [
    {
     "name": "stdout",
     "output_type": "stream",
     "text": [
      "\n",
      "=== QUESTION 4 ===\n",
      "r=0: RMSE=0.52\n",
      "r=0.01: RMSE=0.52\n",
      "r=0.1: RMSE=0.53\n",
      "r=1: RMSE=0.53\n",
      "r=5: RMSE=0.53\n",
      "r=10: RMSE=0.53\n",
      "r=100: RMSE=0.53\n",
      "Best r: 0 with RMSE: 0.52\n"
     ]
    }
   ],
   "source": [
    "def train_linear_regression_regularized(X, y, r=0):\n",
    "    \"\"\"\n",
    "    Train regularized linear regression (Ridge regression)\n",
    "    \"\"\"\n",
    "    # Add bias term\n",
    "    ones = np.ones(X.shape[0])\n",
    "    X_with_bias = np.column_stack([ones, X])\n",
    "    \n",
    "    # Regularized normal equation: w = (X^T X + r*I)^-1 X^T y\n",
    "    XTX = X_with_bias.T.dot(X_with_bias)\n",
    "    I = np.eye(XTX.shape[0])\n",
    "    w = np.linalg.inv(XTX + r * I).dot(X_with_bias.T).dot(y)\n",
    "    \n",
    "    return w\n",
    "\n",
    "# Fill NAs with 0\n",
    "X_train, y_train = prepare_X_y(df_train, fill_value=0)\n",
    "X_val, y_val = prepare_X_y(df_val, fill_value=0)\n",
    "\n",
    "r_values = [0, 0.01, 0.1, 1, 5, 10, 100]\n",
    "rmse_scores = {}\n",
    "\n",
    "print(\"\\n=== QUESTION 4 ===\")\n",
    "for r in r_values:\n",
    "    w = train_linear_regression_regularized(X_train, y_train, r=r)\n",
    "    y_pred = predict(X_val, w)\n",
    "    rmse_score = round(rmse(y_val, y_pred), 2)\n",
    "    rmse_scores[r] = rmse_score\n",
    "    print(f\"r={r}: RMSE={rmse_score}\")\n",
    "\n",
    "best_r = min(rmse_scores, key=lambda k: (rmse_scores[k], k))\n",
    "print(f\"Best r: {best_r} with RMSE: {rmse_scores[best_r]}\")\n"
   ]
  },
  {
   "cell_type": "code",
   "execution_count": 23,
   "id": "3717151d",
   "metadata": {},
   "outputs": [
    {
     "name": "stdout",
     "output_type": "stream",
     "text": [
      "\n",
      "=== QUESTION 5 ===\n",
      "Seed 0: RMSE=0.52\n",
      "Seed 1: RMSE=0.51\n",
      "Seed 2: RMSE=0.52\n",
      "Seed 3: RMSE=0.53\n",
      "Seed 4: RMSE=0.53\n",
      "Seed 5: RMSE=0.52\n",
      "Seed 6: RMSE=0.51\n",
      "Seed 7: RMSE=0.53\n",
      "Seed 8: RMSE=0.51\n",
      "Seed 9: RMSE=0.52\n",
      "Standard deviation of RMSE scores: 0.008\n"
     ]
    }
   ],
   "source": [
    "seeds = [0, 1, 2, 3, 4, 5, 6, 7, 8, 9]\n",
    "rmse_scores_seeds = []\n",
    "\n",
    "print(\"\\n=== QUESTION 5 ===\")\n",
    "for seed in seeds:\n",
    "    df_train_s, df_val_s, df_test_s = prepare_and_split_data(df, seed=seed)\n",
    "    \n",
    "    X_train_s, y_train_s = prepare_X_y(df_train_s, fill_value=0)\n",
    "    X_val_s, y_val_s = prepare_X_y(df_val_s, fill_value=0)\n",
    "    \n",
    "    w_s = train_linear_regression(X_train_s, y_train_s)\n",
    "    y_pred_s = predict(X_val_s, w_s)\n",
    "    rmse_s = rmse(y_val_s, y_pred_s)\n",
    "    rmse_scores_seeds.append(rmse_s)\n",
    "    print(f\"Seed {seed}: RMSE={round(rmse_s, 2)}\")\n",
    "\n",
    "std_rmse = round(np.std(rmse_scores_seeds), 3)\n",
    "print(f\"Standard deviation of RMSE scores: {std_rmse}\")"
   ]
  },
  {
   "cell_type": "code",
   "execution_count": 24,
   "id": "85781302",
   "metadata": {},
   "outputs": [
    {
     "name": "stdout",
     "output_type": "stream",
     "text": [
      "\n",
      "=== QUESTION 6 ===\n",
      "RMSE on test dataset (seed=9, r=0.001): 0.53\n"
     ]
    }
   ],
   "source": [
    "print(\"\\n=== QUESTION 6 ===\")\n",
    "# Split with seed 9\n",
    "df_train_9, df_val_9, df_test_9 = prepare_and_split_data(df, seed=9)\n",
    "\n",
    "# Combine train and validation\n",
    "df_train_full = pd.concat([df_train_9, df_val_9]).reset_index(drop=True)\n",
    "\n",
    "# Prepare data\n",
    "X_train_full, y_train_full = prepare_X_y(df_train_full, fill_value=0)\n",
    "X_test_9, y_test_9 = prepare_X_y(df_test_9, fill_value=0)\n",
    "\n",
    "# Train with r=0.001\n",
    "w_final = train_linear_regression_regularized(X_train_full, y_train_full, r=0.001)\n",
    "y_pred_test = predict(X_test_9, w_final)\n",
    "rmse_test = round(rmse(y_test_9, y_pred_test), 2)\n",
    "\n",
    "print(f\"RMSE on test dataset (seed=9, r=0.001): {rmse_test}\")"
   ]
  }
 ],
 "metadata": {
  "kernelspec": {
   "display_name": "ml",
   "language": "python",
   "name": "python3"
  },
  "language_info": {
   "codemirror_mode": {
    "name": "ipython",
    "version": 3
   },
   "file_extension": ".py",
   "mimetype": "text/x-python",
   "name": "python",
   "nbconvert_exporter": "python",
   "pygments_lexer": "ipython3",
   "version": "3.11.13"
  }
 },
 "nbformat": 4,
 "nbformat_minor": 5
}
